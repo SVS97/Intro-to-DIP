{
 "cells": [
  {
   "cell_type": "markdown",
   "metadata": {},
   "source": [
    "# Робота із відеопослідовністю в Opencv"
   ]
  },
  {
   "cell_type": "markdown",
   "metadata": {},
   "source": [
    "У даній лабораторній роботі розглянуто наступний функціонал бібліотеки OpenCV:\n",
    "1. Зчитування відеоряду.\n",
    "2. Внесення змін до відеоряду.\n",
    "3. Запис відеоряду."
   ]
  },
  {
   "cell_type": "markdown",
   "metadata": {},
   "source": [
    "## Імпорт бібліотек та пакетів"
   ]
  },
  {
   "cell_type": "code",
   "execution_count": 1,
   "metadata": {},
   "outputs": [],
   "source": [
    "import numpy as np\n",
    "import cv2"
   ]
  },
  {
   "cell_type": "markdown",
   "metadata": {},
   "source": [
    "## Зчитування та відображення відеоряду"
   ]
  },
  {
   "cell_type": "markdown",
   "metadata": {},
   "source": [
    "### VideoCapture"
   ]
  },
  {
   "cell_type": "markdown",
   "metadata": {},
   "source": [
    "### Функція\n",
    "Зчитує відеоряд\n",
    "### Синтаксис функції\n",
    "   cv2.VideoCapture(filename)\n",
    "   cv2.VideoCapture(device)\n",
    "   \n",
    "Параметри:\n",
    "* **filename** – Ім'я файлу, що зчитаується.\n",
    "* **device** – Номер пристрою, з якого проводиться зчитування (наприклад веб-камера)."
   ]
  },
  {
   "cell_type": "code",
   "execution_count": 2,
   "metadata": {},
   "outputs": [],
   "source": [
    "cap = cv2.VideoCapture('assignments/example.mp4')"
   ]
  },
  {
   "cell_type": "markdown",
   "metadata": {},
   "source": [
    "Обробка відеопослідовностей відбувається покадрово. Тому створимо цикл для обробки всіх кадрів у відеоряді. В ньому зчитаємо кожний кадр та перетворимо його у відтінки сірого."
   ]
  },
  {
   "cell_type": "code",
   "execution_count": 3,
   "metadata": {},
   "outputs": [],
   "source": [
    "while(cap.isOpened()):\n",
    "    ret, frame = cap.read()\n",
    "    # перевірка чи зчитався кадр\n",
    "    if ret==False:\n",
    "        break;\n",
    "    #frame = cv2.cvtColor(frame, cv2.COLOR_BGR2GRAY)\n",
    "\n",
    "    cv2.imshow('frame',frame)\n",
    "  \n",
    "    # перевірка натискання клавіші виходу\n",
    "    if cv2.waitKey(1) & 0xFF == ord('q'):\n",
    "        break\n",
    "\n",
    "cap.release()\n",
    "cv2.destroyAllWindows()"
   ]
  },
  {
   "cell_type": "markdown",
   "metadata": {},
   "source": [
    "## Запис відеоряду"
   ]
  },
  {
   "cell_type": "markdown",
   "metadata": {},
   "source": [
    "Зчитаємо вихідну відеопослідовність, модифікуємо її та запишемо на диск."
   ]
  },
  {
   "cell_type": "code",
   "execution_count": 4,
   "metadata": {},
   "outputs": [],
   "source": [
    "cap = cv2.VideoCapture('assignments/example.mp4')"
   ]
  },
  {
   "cell_type": "markdown",
   "metadata": {},
   "source": [
    "### Ініціалізація вихідного відеоряду"
   ]
  },
  {
   "cell_type": "markdown",
   "metadata": {},
   "source": [
    "### Функція\n",
    "Зчитує відеоряд\n",
    "### Синтаксис функції\n",
    "cv.CreateVideoWriter(filename, fourcc, fps, frame_size)\n",
    "   \n",
    "Параметри:\n",
    "* **filename** – Ім'я вихідного файлу.\n",
    "* **fourcc** – Кодек для стискання відеофайлу.\n",
    "* **fps** - Кількість кадрів в секунду\n",
    "* **frame_size** - Розмір кадру."
   ]
  },
  {
   "cell_type": "markdown",
   "metadata": {},
   "source": [
    "Оскільки для запису вихідного файлу необхідно знати його параметри, визначимо їх динамічно за допомогою функціоналу бібліотеки OpenCV."
   ]
  },
  {
   "cell_type": "code",
   "execution_count": 5,
   "metadata": {},
   "outputs": [
    {
     "name": "stdout",
     "output_type": "stream",
     "text": [
      "Width =  1920\n",
      "Height =  1080\n",
      "FPS =  23\n"
     ]
    }
   ],
   "source": [
    "width  = int(cap.get(cv2.CAP_PROP_FRAME_WIDTH))\n",
    "height = int(cap.get(cv2.CAP_PROP_FRAME_HEIGHT))\n",
    "fps = int(cap.get(cv2.CAP_PROP_FPS))\n",
    "\n",
    "print(\"Width = \", width)\n",
    "print(\"Height = \", height)\n",
    "print(\"FPS = \", fps)"
   ]
  },
  {
   "cell_type": "markdown",
   "metadata": {},
   "source": [
    "Та задамо стандартний відеокодек"
   ]
  },
  {
   "cell_type": "code",
   "execution_count": 6,
   "metadata": {},
   "outputs": [],
   "source": [
    "fourcc = int(cv2.VideoWriter_fourcc(*'XVID'))"
   ]
  },
  {
   "cell_type": "markdown",
   "metadata": {},
   "source": [
    "Ініціалізуємо відеоряд"
   ]
  },
  {
   "cell_type": "code",
   "execution_count": 7,
   "metadata": {},
   "outputs": [],
   "source": [
    "out = cv2.VideoWriter('assignments/output.avi',fourcc, fps, (width,height))"
   ]
  },
  {
   "cell_type": "markdown",
   "metadata": {},
   "source": [
    "Покадрово опрацюємо відеоряд та запишемо його. Реалізуємо поворот зображення за допомогою функції **cv2.flip**. Також додамо текстовий рядок у відео. Для цього задамо параметри відображення тексту."
   ]
  },
  {
   "cell_type": "code",
   "execution_count": 8,
   "metadata": {},
   "outputs": [],
   "source": [
    "font = cv2.FONT_HERSHEY_SIMPLEX\n",
    "text_x = int(width/2)-100\n",
    "text_y = height - 30"
   ]
  },
  {
   "cell_type": "markdown",
   "metadata": {},
   "source": [
    "Обробимо кадри в ціклі"
   ]
  },
  {
   "cell_type": "code",
   "execution_count": 9,
   "metadata": {},
   "outputs": [],
   "source": [
    "while(cap.isOpened()):\n",
    "    ret, frame = cap.read()\n",
    "    if ret==True:\n",
    "        \n",
    "        # повернемо зображення\n",
    "        frame = cv2.flip(frame,0)\n",
    "        \n",
    "        # додамо рядок\n",
    "        cv2.putText(frame,'Video Processing',(text_x,text_y), font, 4,(255,255,255),2,cv2.LINE_AA)\n",
    "        \n",
    "        # запишемо змінені кадри\n",
    "        out.write(frame)\n",
    "        \n",
    "        # відобразимо змінені кадри\n",
    "        cv2.imshow('frame',frame)\n",
    "        \n",
    "        # перевірка виходу\n",
    "        if cv2.waitKey(1) & 0xFF == ord('q'):\n",
    "            break\n",
    "    else:\n",
    "        break\n",
    "\n",
    "# закриємо всі вікна та процеси запису\n",
    "cap.release()\n",
    "out.release()\n",
    "cv2.destroyAllWindows()"
   ]
  }
 ],
 "metadata": {
  "kernelspec": {
   "display_name": "Python 3",
   "language": "python",
   "name": "python3"
  },
  "language_info": {
   "codemirror_mode": {
    "name": "ipython",
    "version": 3
   },
   "file_extension": ".py",
   "mimetype": "text/x-python",
   "name": "python",
   "nbconvert_exporter": "python",
   "pygments_lexer": "ipython3",
   "version": "3.6.9"
  }
 },
 "nbformat": 4,
 "nbformat_minor": 2
}
