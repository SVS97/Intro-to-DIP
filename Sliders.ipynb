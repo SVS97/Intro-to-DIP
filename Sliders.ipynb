{
 "cells": [
  {
   "cell_type": "markdown",
   "metadata": {},
   "source": [
    "# Робота із \"трекбар\" Opencv"
   ]
  },
  {
   "cell_type": "markdown",
   "metadata": {},
   "source": [
    "У даній лабораторній роботі розглянуто наступний функціонал бібліотеки OpenCV:\n",
    "1. Trackbar для зміни кольору.\n",
    "2. Trackbar для зміни параметрів фільтру X-Pro."
   ]
  },
  {
   "cell_type": "markdown",
   "metadata": {},
   "source": [
    "## Імпорт бібліотек та пакетів"
   ]
  },
  {
   "cell_type": "code",
   "execution_count": 8,
   "metadata": {},
   "outputs": [],
   "source": [
    "import cv2\n",
    "import numpy as np"
   ]
  },
  {
   "cell_type": "markdown",
   "metadata": {},
   "source": [
    "Для роботи зі \"слайдерами\" ініціалізуємо функцію, яка нічого не робить"
   ]
  },
  {
   "cell_type": "code",
   "execution_count": 2,
   "metadata": {},
   "outputs": [],
   "source": [
    "def nothing(x):\n",
    "    pass"
   ]
  },
  {
   "cell_type": "markdown",
   "metadata": {},
   "source": [
    "### Створимо чорне зображення та вікно для нього"
   ]
  },
  {
   "cell_type": "code",
   "execution_count": 3,
   "metadata": {},
   "outputs": [],
   "source": [
    "img = np.zeros((300,512,3), np.uint8)\n",
    "cv2.namedWindow('image')"
   ]
  },
  {
   "cell_type": "markdown",
   "metadata": {},
   "source": [
    "## Trackbar"
   ]
  },
  {
   "cell_type": "markdown",
   "metadata": {},
   "source": [
    "### Функція\n",
    "Створює Trackbar\n",
    "### Синтаксис функції\n",
    "   cv.CreateTrackbar(trackbarName, windowName, value, count, onChange) \n",
    "   \n",
    "Параметри:\n",
    "* **trackbarName** – Ім'я створюваного трекбару.\n",
    "* **windowName** – Ім'я вікна для якого цей трекбар створюється.\n",
    "* **value** – Початкове значення \"слайдеру\".\n",
    "* **count** – Максимальне значення слайдеру.\n",
    "* **onChange** – Виклик функції при зміні \"слайдеру\"."
   ]
  },
  {
   "cell_type": "code",
   "execution_count": 4,
   "metadata": {},
   "outputs": [],
   "source": [
    "cv2.createTrackbar('R','image',0,255,nothing)\n",
    "cv2.createTrackbar('G','image',0,255,nothing)\n",
    "cv2.createTrackbar('B','image',0,255,nothing)"
   ]
  },
  {
   "cell_type": "markdown",
   "metadata": {},
   "source": [
    "### Вимикач функціоналу"
   ]
  },
  {
   "cell_type": "code",
   "execution_count": 5,
   "metadata": {},
   "outputs": [],
   "source": [
    "switch = '0 : OFF \\n1 : ON'\n",
    "cv2.createTrackbar(switch, 'image',0,1,nothing)"
   ]
  },
  {
   "cell_type": "markdown",
   "metadata": {},
   "source": [
    "### \"Вічний цикл\""
   ]
  },
  {
   "cell_type": "markdown",
   "metadata": {},
   "source": [
    "Створюємо \"вічний цикл\" і в ньому перевіряємо поточне положення трекбару"
   ]
  },
  {
   "cell_type": "code",
   "execution_count": 6,
   "metadata": {},
   "outputs": [],
   "source": [
    "while(1):\n",
    "    cv2.imshow('image',img)\n",
    "    # Перевірка для виходу з циклу (Esc)\n",
    "    k = cv2.waitKey(1) & 0xFF\n",
    "    if k == 27:\n",
    "        break\n",
    "\n",
    "    # Отримуємо поточне положення кожного з трекбарів\n",
    "    r = cv2.getTrackbarPos('R','image')\n",
    "    g = cv2.getTrackbarPos('G','image')\n",
    "    b = cv2.getTrackbarPos('B','image')\n",
    "    s = cv2.getTrackbarPos(switch,'image')\n",
    "    # Змінюємо значення кожного кольору відповідно до значення трекбару\n",
    "    if s == 0:\n",
    "        img[:] = 0\n",
    "    else:\n",
    "        img[:] = [b,g,r]\n",
    "\n",
    "cv2.destroyAllWindows()"
   ]
  },
  {
   "cell_type": "markdown",
   "metadata": {},
   "source": [
    "## Фільтр зі слайдерами"
   ]
  },
  {
   "cell_type": "markdown",
   "metadata": {},
   "source": [
    "Реалізуємо інтерактивне регулювання фільтру X-Pro за допомогою трекабарів"
   ]
  },
  {
   "cell_type": "markdown",
   "metadata": {},
   "source": [
    "### Зчитаємо зображення та створим його вихідну копію"
   ]
  },
  {
   "cell_type": "code",
   "execution_count": 9,
   "metadata": {},
   "outputs": [],
   "source": [
    "image = cv2.imread(\"assignments/ooep.png\")\n",
    "out = image"
   ]
  },
  {
   "cell_type": "markdown",
   "metadata": {},
   "source": [
    "### Опишемо функцію фільтру"
   ]
  },
  {
   "cell_type": "code",
   "execution_count": 10,
   "metadata": {},
   "outputs": [],
   "source": [
    "def filtering(vignetteScale, light, y_ch, output):\n",
    "\n",
    "    #split into channels\n",
    "    B, G, R = cv2.split(output)\n",
    "\n",
    "    #define vignette scale\n",
    "    #vignetteScale = 6\n",
    "\n",
    "    if (vignetteScale == 0):\n",
    "        return image\n",
    "\n",
    "    #calculate the kernel size\n",
    "    k = np.min([output.shape[1], output.shape[0]])/vignetteScale\n",
    "\n",
    "    #create kernel to get the Halo effect\n",
    "    kernelX = cv2.getGaussianKernel(output.shape[1], k)\n",
    "    kernelY = cv2.getGaussianKernel(output.shape[0], k)\n",
    "    kernel = kernelY * kernelX.T\n",
    "\n",
    "    #normalize the kernel\n",
    "    mask = cv2.normalize(kernel, None, alpha=0, beta=1, norm_type=cv2.NORM_MINMAX)\n",
    "\n",
    "    #apply halo effect to all the three channels of the image\n",
    "    B = B + B*mask\n",
    "    G = G + G*mask\n",
    "    R = R + R*mask\n",
    "\n",
    "    #merge back the channels\n",
    "    output = cv2.merge([B, G, R])\n",
    "\n",
    "    output = output /light\n",
    "\n",
    "    #limit the values between 0 and 255\n",
    "    output = np.clip(output, 0, 255)\n",
    "\n",
    "    #convert back to uint8\n",
    "    output = np.uint8(output)\n",
    "\n",
    "    #split the channels\n",
    "    B, G, R = cv2.split(output)\n",
    "\n",
    "\n",
    "    #Interpolation values\n",
    "    redValuesOriginal = np.array([0, 42, 105, 148, 185, 255])\n",
    "    redValues =         np.array([0, 28, 100, 165, 215, 255 ])\n",
    "    greenValuesOriginal = np.array([0, 40, 85, 125, 165, 212, 255])\n",
    "    greenValues =         np.array([0, 25, 75, 135, 185, 230, 255 ])\n",
    "    blueValuesOriginal = np.array([0, 40, 82, 125, 170, 225, 255 ])\n",
    "    blueValues =         np.array([0, 38, 90, 125, 160, 210, 222])\n",
    "\n",
    "    #create lookuptable\n",
    "    allValues = np.arange(0, 256)\n",
    "\n",
    "    #create lookup table for red channel\n",
    "    redLookuptable = np.interp(allValues, redValuesOriginal, redValues)\n",
    "    #apply the mapping for red channel\n",
    "    R = cv2.LUT(R, redLookuptable)\n",
    "\n",
    "    #create lookup table for green channel\n",
    "    greenLookuptable = np.interp(allValues, greenValuesOriginal, greenValues)\n",
    "    #apply the mapping for red channel\n",
    "    G = cv2.LUT(G, greenLookuptable)\n",
    "\n",
    "    #create lookup table for blue channel\n",
    "    blueLookuptable = np.interp(allValues, blueValuesOriginal, blueValues)\n",
    "    #apply the mapping for red channel\n",
    "    B = cv2.LUT(B, blueLookuptable)\n",
    "\n",
    "    #merge back the channels\n",
    "    output = cv2.merge([B, G, R])\n",
    "\n",
    "    #convert back to uint8\n",
    "    output = np.uint8(output)\n",
    "\n",
    "    #adjust contrast\n",
    "    #convert to YCrCb color space\n",
    "    output = cv2.cvtColor(output, cv2.COLOR_BGR2YCrCb)\n",
    "\n",
    "    #convert to float32\n",
    "    output = np.float32(output)\n",
    "\n",
    "    #split the channels\n",
    "    Y, Cr, Cb = cv2.split(output)\n",
    "\n",
    "    #scale the Y channel\n",
    "    #Y = Y * 1.2\n",
    "    Y = Y * (1 + y_ch/10)\n",
    "\n",
    "\n",
    "    #limit the values between 0 and 255\n",
    "    Y = np.clip(Y, 0, 255)\n",
    "\n",
    "    #merge back the channels\n",
    "    output = cv2.merge([Y, Cr, Cb])\n",
    "\n",
    "    #convert back to uint8\n",
    "    output = np.uint8(output)\n",
    "\n",
    "    #convert back to BGR color space\n",
    "    output = cv2.cvtColor(output, cv2.COLOR_YCrCb2BGR)\n",
    "    return output"
   ]
  },
  {
   "cell_type": "markdown",
   "metadata": {},
   "source": [
    "### Trackbar"
   ]
  },
  {
   "cell_type": "code",
   "execution_count": 11,
   "metadata": {},
   "outputs": [],
   "source": [
    "cv2.namedWindow(\"xpro\", cv2.WINDOW_AUTOSIZE)\n",
    "cv2.createTrackbar('vignetteScale','xpro',0,50,nothing)\n",
    "cv2.createTrackbar('light','xpro',2,50,nothing)\n",
    "cv2.createTrackbar('y_ch','xpro',1,10,nothing)"
   ]
  },
  {
   "cell_type": "markdown",
   "metadata": {},
   "source": [
    "### Вічний цикл"
   ]
  },
  {
   "cell_type": "code",
   "execution_count": 12,
   "metadata": {},
   "outputs": [],
   "source": [
    "while(1):\n",
    "    cv2.imshow(\"xpro\", out)\n",
    "\n",
    "    k = cv2.waitKey(1) & 0xFF\n",
    "    if k == 27:\n",
    "        break\n",
    "\n",
    "    vignetteScale = cv2.getTrackbarPos('vignetteScale', 'xpro')\n",
    "    light = cv2.getTrackbarPos('light', 'xpro')\n",
    "    y_ch = cv2.getTrackbarPos('y_ch', 'xpro')\n",
    "    \n",
    "    if (light == 0) or (y_ch == 0):\n",
    "        light = 1\n",
    "        y_ch = 1\n",
    "        \n",
    "    out = filtering(vignetteScale, light, y_ch, image)\n",
    "\n",
    "cv2.destroyAllWindows()"
   ]
  },
  {
   "cell_type": "code",
   "execution_count": null,
   "metadata": {},
   "outputs": [],
   "source": []
  },
  {
   "cell_type": "code",
   "execution_count": null,
   "metadata": {},
   "outputs": [],
   "source": []
  }
 ],
 "metadata": {
  "kernelspec": {
   "display_name": "Python 3",
   "language": "python",
   "name": "python3"
  },
  "language_info": {
   "codemirror_mode": {
    "name": "ipython",
    "version": 3
   },
   "file_extension": ".py",
   "mimetype": "text/x-python",
   "name": "python",
   "nbconvert_exporter": "python",
   "pygments_lexer": "ipython3",
   "version": "3.7.3"
  }
 },
 "nbformat": 4,
 "nbformat_minor": 2
}
